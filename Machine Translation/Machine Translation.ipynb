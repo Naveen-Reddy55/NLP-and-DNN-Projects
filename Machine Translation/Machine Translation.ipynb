{
 "cells": [
  {
   "cell_type": "code",
   "execution_count": 1,
   "id": "2dcead95",
   "metadata": {},
   "outputs": [],
   "source": [
    "import numpy as np\n",
    "import pandas as pd\n"
   ]
  },
  {
   "cell_type": "code",
   "execution_count": 2,
   "id": "13bb8684",
   "metadata": {},
   "outputs": [],
   "source": [
    "file_loc=r\"C:\\Users\\Naveen Reddy\\Desktop\\Practice\\Encoder Decoder\\fra-eng\\fra.txt\"\n",
    "data=pd.read_csv(file_loc,delimiter=\"\\t\",header=None)\n",
    "data.drop(2,inplace=True,axis=1)\n",
    "data.columns=[\"English\",\"French\"]"
   ]
  },
  {
   "cell_type": "code",
   "execution_count": 3,
   "id": "a1462970",
   "metadata": {},
   "outputs": [],
   "source": [
    "english_data,french_data=list(data[\"English\"]),list(data[\"French\"])\n",
    "english_data,french_data=english_data[:95103],french_data[:95103]"
   ]
  },
  {
   "cell_type": "code",
   "execution_count": 4,
   "id": "c9c2c2a9",
   "metadata": {},
   "outputs": [],
   "source": [
    "eng_char=set()\n",
    "for i in english_data:\n",
    "    eng_char=eng_char.union(set(list(i)))\n",
    "eng_char=list(eng_char)\n",
    "eng_char=sorted(eng_char)\n",
    "eng_char=dict([(j,i) for i,j in enumerate(eng_char)])\n"
   ]
  },
  {
   "cell_type": "code",
   "execution_count": 5,
   "id": "9f304cef",
   "metadata": {},
   "outputs": [],
   "source": [
    "french_char=set()\n",
    "for i in french_data:\n",
    "    i=\"/s\"+i+\"/e\"\n",
    "    french_char=french_char.union(set(list(i)))\n",
    "lis=[]\n",
    "french_char=list(french_char)\n",
    "french_char=sorted(french_char)\n",
    "french_char=dict([(j,i) for i,j in enumerate(french_char)])\n",
    "    "
   ]
  },
  {
   "cell_type": "code",
   "execution_count": 6,
   "id": "c8245952",
   "metadata": {},
   "outputs": [
    {
     "name": "stdout",
     "output_type": "stream",
     "text": [
      "28\n",
      "76\n"
     ]
    }
   ],
   "source": [
    "max_eng_len=int(max([len(list(i)) for i in english_data]))\n",
    "print(max_eng_len)\n",
    "max_fren_len=int(max([len(list(i)) for i in french_data]))\n",
    "print(max_fren_len)"
   ]
  },
  {
   "cell_type": "code",
   "execution_count": 7,
   "id": "d3a36af8",
   "metadata": {},
   "outputs": [
    {
     "name": "stdout",
     "output_type": "stream",
     "text": [
      "95103\n",
      "95103\n"
     ]
    }
   ],
   "source": [
    "num_eng_sentence=len(english_data)\n",
    "num_fren_sentence=len(french_data)\n",
    "print(num_eng_sentence)\n",
    "print(num_fren_sentence)"
   ]
  },
  {
   "cell_type": "code",
   "execution_count": 8,
   "id": "ca139e3f",
   "metadata": {},
   "outputs": [],
   "source": [
    "encoder_input=np.zeros((num_eng_sentence,max_eng_len,len(eng_char)),dtype=np.float32)\n",
    "decoder_input=np.zeros((num_fren_sentence,max_fren_len,len(french_char)),dtype=np.float32)\n",
    "decoder_output=np.zeros((num_fren_sentence,max_fren_len,len(french_char)),dtype=np.float32)\n"
   ]
  },
  {
   "cell_type": "code",
   "execution_count": 9,
   "id": "5cec40d1",
   "metadata": {},
   "outputs": [],
   "source": [
    "for i in range(len(english_data)):\n",
    "  for j in range(len(list(english_data[i]))):\n",
    "    if list(english_data[i])[j] in eng_char:\n",
    "      encoder_input[i,j,eng_char[list(english_data[i])[j]]]=1"
   ]
  },
  {
   "cell_type": "code",
   "execution_count": 10,
   "id": "ea2f5453",
   "metadata": {},
   "outputs": [],
   "source": [
    "for i in range(len(french_data)):\n",
    "  for j in range(len(list(french_data[i]))):\n",
    "    if list(french_data[i])[j-1] in french_char:\n",
    "      decoder_output[i,j-1,french_char[list(french_data[i])[j-1]]]=1\n",
    "    if list(french_data[i])[j] in french_char:\n",
    "      decoder_input[i,j,french_char[list(french_data[i])[j]]]=1\n"
   ]
  },
  {
   "cell_type": "code",
   "execution_count": 11,
   "id": "1ba1586a",
   "metadata": {},
   "outputs": [],
   "source": [
    "import tensorflow as tf\n",
    "from tensorflow.keras.models import Model\n",
    "from tensorflow.keras.layers import Input, LSTM, Dense\n",
    "encode_inputs=Input(shape=(None,len(eng_char)))\n",
    "encoder=LSTM(256,return_state=True)\n",
    "_,encode_state1,encode_state2=encoder(encode_inputs)\n",
    "enc_states=[encode_state1,encode_state2]\n",
    "decode_inputs=Input(shape=(None,len(french_char)))\n",
    "decoder=LSTM(256,return_sequences=True,return_state=True)\n",
    "dec_outputs,_,_=decoder(decode_inputs,initial_state=enc_states)\n",
    "decoder_dense=Dense(len(french_char),activation=\"softmax\")\n",
    "decode_outs=decoder_dense(dec_outputs)"
   ]
  },
  {
   "cell_type": "code",
   "execution_count": 12,
   "id": "f773348a",
   "metadata": {},
   "outputs": [
    {
     "name": "stdout",
     "output_type": "stream",
     "text": [
      "Epoch 1/5\n",
      "2972/2972 [==============================] - 485s 163ms/step - loss: 0.4676\n",
      "Epoch 2/5\n",
      "2972/2972 [==============================] - 585s 197ms/step - loss: 0.3153\n",
      "Epoch 3/5\n",
      "2972/2972 [==============================] - 596s 201ms/step - loss: 0.2987\n",
      "Epoch 4/5\n",
      "2972/2972 [==============================] - 1425s 480ms/step - loss: 0.2873\n",
      "Epoch 5/5\n",
      "2972/2972 [==============================] - 743s 250ms/step - loss: 0.2748\n"
     ]
    },
    {
     "data": {
      "text/plain": [
       "<keras.callbacks.History at 0x20f963262e0>"
      ]
     },
     "execution_count": 12,
     "metadata": {},
     "output_type": "execute_result"
    }
   ],
   "source": [
    "model=Model([encode_inputs,decode_inputs],decode_outs)\n",
    "model.compile(loss='categorical_crossentropy')\n",
    "model.fit([encoder_input,decoder_input],decoder_output,epochs=5)"
   ]
  },
  {
   "cell_type": "code",
   "execution_count": 28,
   "id": "c5f42784",
   "metadata": {},
   "outputs": [
    {
     "name": "stdout",
     "output_type": "stream",
     "text": [
      "[[[5.37998090e-03 1.91536651e-03 2.71962746e-03 ... 2.89308513e-03\n",
      "   3.42035014e-03 2.53187888e-03]\n",
      "  [7.11459259e-04 1.15664629e-03 7.65150122e-04 ... 1.18722732e-04\n",
      "   4.48109582e-04 7.12415203e-04]\n",
      "  [5.95105767e-01 4.20017354e-03 1.01532019e-03 ... 5.39364177e-04\n",
      "   1.28379837e-03 4.10989486e-03]\n",
      "  ...\n",
      "  [7.33280927e-02 1.34785045e-02 7.20992510e-04 ... 5.80891734e-04\n",
      "   1.77795056e-03 1.09419068e-02]\n",
      "  [7.33280927e-02 1.34785045e-02 7.20992510e-04 ... 5.80891734e-04\n",
      "   1.77795056e-03 1.09419068e-02]\n",
      "  [7.33280927e-02 1.34785045e-02 7.20992510e-04 ... 5.80891734e-04\n",
      "   1.77795056e-03 1.09419068e-02]]\n",
      "\n",
      " [[3.16265528e-03 1.26571918e-03 4.29405714e-04 ... 6.39519771e-04\n",
      "   7.32631481e-04 2.34598643e-03]\n",
      "  [7.18802330e-04 1.78449042e-03 5.57145104e-04 ... 1.25031162e-04\n",
      "   3.60203238e-04 5.84168185e-04]\n",
      "  [2.49277502e-02 1.16549125e-02 1.97309745e-03 ... 6.64302032e-04\n",
      "   1.37207401e-03 1.31874140e-02]\n",
      "  ...\n",
      "  [7.33280927e-02 1.34785045e-02 7.20992510e-04 ... 5.80891734e-04\n",
      "   1.77795056e-03 1.09419068e-02]\n",
      "  [7.33280927e-02 1.34785045e-02 7.20992510e-04 ... 5.80891734e-04\n",
      "   1.77795056e-03 1.09419068e-02]\n",
      "  [7.33280927e-02 1.34785045e-02 7.20992510e-04 ... 5.80891734e-04\n",
      "   1.77795056e-03 1.09419068e-02]]\n",
      "\n",
      " [[1.60670802e-02 2.25789123e-03 3.63750826e-03 ... 2.33511603e-03\n",
      "   2.42399029e-03 2.38815835e-03]\n",
      "  [2.03895476e-03 5.82888199e-04 6.98051706e-04 ... 2.62215646e-04\n",
      "   5.58645348e-04 8.27339478e-04]\n",
      "  [1.69688370e-02 1.03779072e-02 1.22263376e-03 ... 1.34937314e-03\n",
      "   1.52680196e-03 7.16403779e-03]\n",
      "  ...\n",
      "  [7.33280927e-02 1.34785045e-02 7.20992510e-04 ... 5.80891734e-04\n",
      "   1.77795056e-03 1.09419068e-02]\n",
      "  [7.33280927e-02 1.34785045e-02 7.20992510e-04 ... 5.80891734e-04\n",
      "   1.77795056e-03 1.09419068e-02]\n",
      "  [7.33280927e-02 1.34785045e-02 7.20992510e-04 ... 5.80891734e-04\n",
      "   1.77795056e-03 1.09419068e-02]]\n",
      "\n",
      " ...\n",
      "\n",
      " [[9.86727886e-04 1.37584354e-03 1.47647015e-03 ... 9.33588250e-04\n",
      "   2.26209915e-04 1.79641088e-03]\n",
      "  [1.40561629e-03 3.38046084e-04 6.53893876e-05 ... 9.36659781e-05\n",
      "   1.18737793e-04 8.94009543e-04]\n",
      "  [9.74417329e-01 1.02732061e-04 9.15057390e-05 ... 3.93177106e-05\n",
      "   6.30985305e-05 1.54445166e-04]\n",
      "  ...\n",
      "  [7.33280927e-02 1.34785045e-02 7.20992510e-04 ... 5.80891734e-04\n",
      "   1.77795056e-03 1.09419068e-02]\n",
      "  [7.33280927e-02 1.34785045e-02 7.20992510e-04 ... 5.80891734e-04\n",
      "   1.77795056e-03 1.09419068e-02]\n",
      "  [7.33280927e-02 1.34785045e-02 7.20992510e-04 ... 5.80891734e-04\n",
      "   1.77795056e-03 1.09419068e-02]]\n",
      "\n",
      " [[7.79276108e-03 2.32521887e-03 7.02967634e-04 ... 8.01149989e-04\n",
      "   8.59324879e-04 5.92138793e-04]\n",
      "  [9.61750031e-01 1.33015084e-04 8.39837812e-05 ... 3.78221230e-05\n",
      "   1.22412166e-04 2.23384646e-04]\n",
      "  [3.21724277e-04 1.35265538e-04 3.45919019e-04 ... 1.00840363e-04\n",
      "   1.01808204e-04 1.81592462e-04]\n",
      "  ...\n",
      "  [7.33280927e-02 1.34785045e-02 7.20992510e-04 ... 5.80891734e-04\n",
      "   1.77795056e-03 1.09419068e-02]\n",
      "  [7.33280927e-02 1.34785045e-02 7.20992510e-04 ... 5.80891734e-04\n",
      "   1.77795056e-03 1.09419068e-02]\n",
      "  [7.33280927e-02 1.34785045e-02 7.20992510e-04 ... 5.80891734e-04\n",
      "   1.77795056e-03 1.09419068e-02]]\n",
      "\n",
      " [[3.27805319e-04 2.41494665e-04 8.44034585e-05 ... 5.93472068e-05\n",
      "   3.20946529e-05 1.24774495e-04]\n",
      "  [2.36479667e-04 2.77394847e-05 1.39568047e-05 ... 1.81576088e-05\n",
      "   7.65584555e-05 8.30425706e-05]\n",
      "  [3.20681022e-04 9.22081017e-05 9.11561001e-05 ... 1.69809555e-05\n",
      "   5.73652469e-05 1.64529280e-04]\n",
      "  ...\n",
      "  [7.33280927e-02 1.34785045e-02 7.20992510e-04 ... 5.80891734e-04\n",
      "   1.77795056e-03 1.09419068e-02]\n",
      "  [7.33280927e-02 1.34785045e-02 7.20992510e-04 ... 5.80891734e-04\n",
      "   1.77795056e-03 1.09419068e-02]\n",
      "  [7.33280927e-02 1.34785045e-02 7.20992510e-04 ... 5.80891734e-04\n",
      "   1.77795056e-03 1.09419068e-02]]]\n"
     ]
    }
   ],
   "source": [
    "pred=model.predict([encoder_input,decoder_input])\n",
    "print(pred)"
   ]
  },
  {
   "cell_type": "code",
   "execution_count": 29,
   "id": "f55b1247",
   "metadata": {},
   "outputs": [
    {
     "data": {
      "text/plain": [
       "(95103, 76, 105)"
      ]
     },
     "execution_count": 29,
     "metadata": {},
     "output_type": "execute_result"
    }
   ],
   "source": [
    "pred.shape  ## 57- padded words, 100- number of charecters(loop)"
   ]
  },
  {
   "cell_type": "code",
   "execution_count": 30,
   "id": "8232462c",
   "metadata": {},
   "outputs": [],
   "source": [
    "pred1=np.moveaxis(pred,2,1)\n",
    "pred1.shape\n",
    "reverse={n:a for a,n in french_char.items()}"
   ]
  },
  {
   "cell_type": "code",
   "execution_count": 31,
   "id": "14b546a4",
   "metadata": {},
   "outputs": [],
   "source": [
    "emp=''\n",
    "lis2=[]\n",
    "for i in pred[:10]:\n",
    "  for j in i:\n",
    "    emp=emp+reverse[np.argmax(j)]\n",
    "  lis2.append(emp)"
   ]
  },
  {
   "cell_type": "code",
   "execution_count": 32,
   "id": "9eea50ce",
   "metadata": {},
   "outputs": [
    {
     "data": {
      "text/plain": [
       "['Va                                                                          ',\n",
       " 'Va                                                                          Marc e                                                                      ',\n",
       " 'Va                                                                          Marc e                                                                      Bouge                                                                       ',\n",
       " 'Va                                                                          Marc e                                                                      Bouge                                                                       Saiut                                                                       ',\n",
       " 'Va                                                                          Marc e                                                                      Bouge                                                                       Saiut                                                                       Saiut                                                                       ',\n",
       " 'Va                                                                          Marc e                                                                      Bouge                                                                       Saiut                                                                       Saiut                                                                       Course                                                                      ',\n",
       " 'Va                                                                          Marc e                                                                      Bouge                                                                       Saiut                                                                       Saiut                                                                       Course                                                                      Couree                                                                      ',\n",
       " 'Va                                                                          Marc e                                                                      Bouge                                                                       Saiut                                                                       Saiut                                                                       Course                                                                      Couree                                                                      Prenee vos jambes   vos cous                                                ',\n",
       " 'Va                                                                          Marc e                                                                      Bouge                                                                       Saiut                                                                       Saiut                                                                       Course                                                                      Couree                                                                      Prenee vos jambes   vos cous                                                File                                                                        ',\n",
       " 'Va                                                                          Marc e                                                                      Bouge                                                                       Saiut                                                                       Saiut                                                                       Course                                                                      Couree                                                                      Prenee vos jambes   vos cous                                                File                                                                        Filee                                                                       ']"
      ]
     },
     "execution_count": 32,
     "metadata": {},
     "output_type": "execute_result"
    }
   ],
   "source": [
    "lis2"
   ]
  },
  {
   "cell_type": "code",
   "execution_count": 19,
   "id": "82488f71",
   "metadata": {},
   "outputs": [
    {
     "name": "stderr",
     "output_type": "stream",
     "text": [
      "WARNING:absl:Found untraced functions such as lstm_cell_layer_call_and_return_conditional_losses, lstm_cell_layer_call_fn, lstm_cell_1_layer_call_and_return_conditional_losses, lstm_cell_1_layer_call_fn, lstm_cell_layer_call_fn while saving (showing 5 of 10). These functions will not be directly callable after loading.\n"
     ]
    },
    {
     "name": "stdout",
     "output_type": "stream",
     "text": [
      "INFO:tensorflow:Assets written to: model1\\assets\n"
     ]
    },
    {
     "name": "stderr",
     "output_type": "stream",
     "text": [
      "INFO:tensorflow:Assets written to: model1\\assets\n"
     ]
    }
   ],
   "source": [
    "model.save(\"model1\")"
   ]
  },
  {
   "cell_type": "code",
   "execution_count": null,
   "id": "befa1874",
   "metadata": {},
   "outputs": [],
   "source": []
  }
 ],
 "metadata": {
  "kernelspec": {
   "display_name": "Python 3",
   "language": "python",
   "name": "python3"
  },
  "language_info": {
   "codemirror_mode": {
    "name": "ipython",
    "version": 3
   },
   "file_extension": ".py",
   "mimetype": "text/x-python",
   "name": "python",
   "nbconvert_exporter": "python",
   "pygments_lexer": "ipython3",
   "version": "3.8.8"
  }
 },
 "nbformat": 4,
 "nbformat_minor": 5
}
